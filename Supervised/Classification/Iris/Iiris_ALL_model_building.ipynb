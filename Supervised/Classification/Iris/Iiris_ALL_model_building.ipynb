{
 "cells": [
  {
   "cell_type": "markdown",
   "id": "da34799f",
   "metadata": {},
   "source": [
    "## Importing libraries"
   ]
  },
  {
   "cell_type": "code",
   "execution_count": 1,
   "id": "7910c923",
   "metadata": {},
   "outputs": [],
   "source": [
    "import numpy as np\n",
    "import pandas as pd\n",
    "import matplotlib.pyplot as plt\n",
    "import seaborn as sns"
   ]
  },
  {
   "cell_type": "markdown",
   "id": "4e753f1a",
   "metadata": {},
   "source": [
    "### Importing dataset"
   ]
  },
  {
   "cell_type": "code",
   "execution_count": 2,
   "id": "6bf11ec3",
   "metadata": {},
   "outputs": [],
   "source": [
    "dataset=pd.read_csv(\"irisds.csv\",header=None)"
   ]
  },
  {
   "cell_type": "code",
   "execution_count": 3,
   "id": "60f9e10d",
   "metadata": {},
   "outputs": [
    {
     "data": {
      "text/html": [
       "<div>\n",
       "<style scoped>\n",
       "    .dataframe tbody tr th:only-of-type {\n",
       "        vertical-align: middle;\n",
       "    }\n",
       "\n",
       "    .dataframe tbody tr th {\n",
       "        vertical-align: top;\n",
       "    }\n",
       "\n",
       "    .dataframe thead th {\n",
       "        text-align: right;\n",
       "    }\n",
       "</style>\n",
       "<table border=\"1\" class=\"dataframe\">\n",
       "  <thead>\n",
       "    <tr style=\"text-align: right;\">\n",
       "      <th></th>\n",
       "      <th>0</th>\n",
       "      <th>1</th>\n",
       "      <th>2</th>\n",
       "      <th>3</th>\n",
       "      <th>4</th>\n",
       "    </tr>\n",
       "  </thead>\n",
       "  <tbody>\n",
       "    <tr>\n",
       "      <th>0</th>\n",
       "      <td>5.1</td>\n",
       "      <td>3.5</td>\n",
       "      <td>1.4</td>\n",
       "      <td>0.2</td>\n",
       "      <td>Iris-setosa</td>\n",
       "    </tr>\n",
       "    <tr>\n",
       "      <th>1</th>\n",
       "      <td>4.9</td>\n",
       "      <td>3.0</td>\n",
       "      <td>1.4</td>\n",
       "      <td>0.2</td>\n",
       "      <td>Iris-setosa</td>\n",
       "    </tr>\n",
       "    <tr>\n",
       "      <th>2</th>\n",
       "      <td>4.7</td>\n",
       "      <td>3.2</td>\n",
       "      <td>1.3</td>\n",
       "      <td>0.2</td>\n",
       "      <td>Iris-setosa</td>\n",
       "    </tr>\n",
       "    <tr>\n",
       "      <th>3</th>\n",
       "      <td>4.6</td>\n",
       "      <td>3.1</td>\n",
       "      <td>1.5</td>\n",
       "      <td>0.2</td>\n",
       "      <td>Iris-setosa</td>\n",
       "    </tr>\n",
       "    <tr>\n",
       "      <th>4</th>\n",
       "      <td>5.0</td>\n",
       "      <td>3.6</td>\n",
       "      <td>1.4</td>\n",
       "      <td>0.2</td>\n",
       "      <td>Iris-setosa</td>\n",
       "    </tr>\n",
       "  </tbody>\n",
       "</table>\n",
       "</div>"
      ],
      "text/plain": [
       "     0    1    2    3            4\n",
       "0  5.1  3.5  1.4  0.2  Iris-setosa\n",
       "1  4.9  3.0  1.4  0.2  Iris-setosa\n",
       "2  4.7  3.2  1.3  0.2  Iris-setosa\n",
       "3  4.6  3.1  1.5  0.2  Iris-setosa\n",
       "4  5.0  3.6  1.4  0.2  Iris-setosa"
      ]
     },
     "execution_count": 3,
     "metadata": {},
     "output_type": "execute_result"
    }
   ],
   "source": [
    "dataset.head()"
   ]
  },
  {
   "cell_type": "code",
   "execution_count": 4,
   "id": "6740234d",
   "metadata": {},
   "outputs": [],
   "source": [
    "dataset.columns = ['sepal_length', 'sepal_width', 'petal_length', 'petal_width','Target']"
   ]
  },
  {
   "cell_type": "code",
   "execution_count": 5,
   "id": "68e01979",
   "metadata": {},
   "outputs": [
    {
     "data": {
      "text/html": [
       "<div>\n",
       "<style scoped>\n",
       "    .dataframe tbody tr th:only-of-type {\n",
       "        vertical-align: middle;\n",
       "    }\n",
       "\n",
       "    .dataframe tbody tr th {\n",
       "        vertical-align: top;\n",
       "    }\n",
       "\n",
       "    .dataframe thead th {\n",
       "        text-align: right;\n",
       "    }\n",
       "</style>\n",
       "<table border=\"1\" class=\"dataframe\">\n",
       "  <thead>\n",
       "    <tr style=\"text-align: right;\">\n",
       "      <th></th>\n",
       "      <th>sepal_length</th>\n",
       "      <th>sepal_width</th>\n",
       "      <th>petal_length</th>\n",
       "      <th>petal_width</th>\n",
       "      <th>Target</th>\n",
       "    </tr>\n",
       "  </thead>\n",
       "  <tbody>\n",
       "    <tr>\n",
       "      <th>0</th>\n",
       "      <td>5.1</td>\n",
       "      <td>3.5</td>\n",
       "      <td>1.4</td>\n",
       "      <td>0.2</td>\n",
       "      <td>Iris-setosa</td>\n",
       "    </tr>\n",
       "    <tr>\n",
       "      <th>1</th>\n",
       "      <td>4.9</td>\n",
       "      <td>3.0</td>\n",
       "      <td>1.4</td>\n",
       "      <td>0.2</td>\n",
       "      <td>Iris-setosa</td>\n",
       "    </tr>\n",
       "    <tr>\n",
       "      <th>2</th>\n",
       "      <td>4.7</td>\n",
       "      <td>3.2</td>\n",
       "      <td>1.3</td>\n",
       "      <td>0.2</td>\n",
       "      <td>Iris-setosa</td>\n",
       "    </tr>\n",
       "    <tr>\n",
       "      <th>3</th>\n",
       "      <td>4.6</td>\n",
       "      <td>3.1</td>\n",
       "      <td>1.5</td>\n",
       "      <td>0.2</td>\n",
       "      <td>Iris-setosa</td>\n",
       "    </tr>\n",
       "    <tr>\n",
       "      <th>4</th>\n",
       "      <td>5.0</td>\n",
       "      <td>3.6</td>\n",
       "      <td>1.4</td>\n",
       "      <td>0.2</td>\n",
       "      <td>Iris-setosa</td>\n",
       "    </tr>\n",
       "  </tbody>\n",
       "</table>\n",
       "</div>"
      ],
      "text/plain": [
       "   sepal_length  sepal_width  petal_length  petal_width       Target\n",
       "0           5.1          3.5           1.4          0.2  Iris-setosa\n",
       "1           4.9          3.0           1.4          0.2  Iris-setosa\n",
       "2           4.7          3.2           1.3          0.2  Iris-setosa\n",
       "3           4.6          3.1           1.5          0.2  Iris-setosa\n",
       "4           5.0          3.6           1.4          0.2  Iris-setosa"
      ]
     },
     "execution_count": 5,
     "metadata": {},
     "output_type": "execute_result"
    }
   ],
   "source": [
    "dataset.head()"
   ]
  },
  {
   "cell_type": "code",
   "execution_count": 6,
   "id": "83de3dee",
   "metadata": {},
   "outputs": [
    {
     "data": {
      "text/plain": [
       "(150, 5)"
      ]
     },
     "execution_count": 6,
     "metadata": {},
     "output_type": "execute_result"
    }
   ],
   "source": [
    "dataset.shape"
   ]
  },
  {
   "cell_type": "code",
   "execution_count": 7,
   "id": "ab6dccb6",
   "metadata": {},
   "outputs": [
    {
     "name": "stdout",
     "output_type": "stream",
     "text": [
      "<class 'pandas.core.frame.DataFrame'>\n",
      "RangeIndex: 150 entries, 0 to 149\n",
      "Data columns (total 5 columns):\n",
      " #   Column        Non-Null Count  Dtype  \n",
      "---  ------        --------------  -----  \n",
      " 0   sepal_length  150 non-null    float64\n",
      " 1   sepal_width   150 non-null    float64\n",
      " 2   petal_length  150 non-null    float64\n",
      " 3   petal_width   150 non-null    float64\n",
      " 4   Target        150 non-null    object \n",
      "dtypes: float64(4), object(1)\n",
      "memory usage: 6.0+ KB\n"
     ]
    }
   ],
   "source": [
    "dataset.info()"
   ]
  },
  {
   "cell_type": "code",
   "execution_count": 8,
   "id": "72691808",
   "metadata": {},
   "outputs": [
    {
     "data": {
      "text/html": [
       "<div>\n",
       "<style scoped>\n",
       "    .dataframe tbody tr th:only-of-type {\n",
       "        vertical-align: middle;\n",
       "    }\n",
       "\n",
       "    .dataframe tbody tr th {\n",
       "        vertical-align: top;\n",
       "    }\n",
       "\n",
       "    .dataframe thead th {\n",
       "        text-align: right;\n",
       "    }\n",
       "</style>\n",
       "<table border=\"1\" class=\"dataframe\">\n",
       "  <thead>\n",
       "    <tr style=\"text-align: right;\">\n",
       "      <th></th>\n",
       "      <th>sepal_length</th>\n",
       "      <th>sepal_width</th>\n",
       "      <th>petal_length</th>\n",
       "      <th>petal_width</th>\n",
       "    </tr>\n",
       "  </thead>\n",
       "  <tbody>\n",
       "    <tr>\n",
       "      <th>count</th>\n",
       "      <td>150.000000</td>\n",
       "      <td>150.000000</td>\n",
       "      <td>150.000000</td>\n",
       "      <td>150.000000</td>\n",
       "    </tr>\n",
       "    <tr>\n",
       "      <th>mean</th>\n",
       "      <td>5.843333</td>\n",
       "      <td>3.054000</td>\n",
       "      <td>3.758667</td>\n",
       "      <td>1.198667</td>\n",
       "    </tr>\n",
       "    <tr>\n",
       "      <th>std</th>\n",
       "      <td>0.828066</td>\n",
       "      <td>0.433594</td>\n",
       "      <td>1.764420</td>\n",
       "      <td>0.763161</td>\n",
       "    </tr>\n",
       "    <tr>\n",
       "      <th>min</th>\n",
       "      <td>4.300000</td>\n",
       "      <td>2.000000</td>\n",
       "      <td>1.000000</td>\n",
       "      <td>0.100000</td>\n",
       "    </tr>\n",
       "    <tr>\n",
       "      <th>25%</th>\n",
       "      <td>5.100000</td>\n",
       "      <td>2.800000</td>\n",
       "      <td>1.600000</td>\n",
       "      <td>0.300000</td>\n",
       "    </tr>\n",
       "    <tr>\n",
       "      <th>50%</th>\n",
       "      <td>5.800000</td>\n",
       "      <td>3.000000</td>\n",
       "      <td>4.350000</td>\n",
       "      <td>1.300000</td>\n",
       "    </tr>\n",
       "    <tr>\n",
       "      <th>75%</th>\n",
       "      <td>6.400000</td>\n",
       "      <td>3.300000</td>\n",
       "      <td>5.100000</td>\n",
       "      <td>1.800000</td>\n",
       "    </tr>\n",
       "    <tr>\n",
       "      <th>max</th>\n",
       "      <td>7.900000</td>\n",
       "      <td>4.400000</td>\n",
       "      <td>6.900000</td>\n",
       "      <td>2.500000</td>\n",
       "    </tr>\n",
       "  </tbody>\n",
       "</table>\n",
       "</div>"
      ],
      "text/plain": [
       "       sepal_length  sepal_width  petal_length  petal_width\n",
       "count    150.000000   150.000000    150.000000   150.000000\n",
       "mean       5.843333     3.054000      3.758667     1.198667\n",
       "std        0.828066     0.433594      1.764420     0.763161\n",
       "min        4.300000     2.000000      1.000000     0.100000\n",
       "25%        5.100000     2.800000      1.600000     0.300000\n",
       "50%        5.800000     3.000000      4.350000     1.300000\n",
       "75%        6.400000     3.300000      5.100000     1.800000\n",
       "max        7.900000     4.400000      6.900000     2.500000"
      ]
     },
     "execution_count": 8,
     "metadata": {},
     "output_type": "execute_result"
    }
   ],
   "source": [
    "dataset.describe()"
   ]
  },
  {
   "cell_type": "markdown",
   "id": "1211c4a2",
   "metadata": {},
   "source": [
    "## Data preprocessing"
   ]
  },
  {
   "cell_type": "markdown",
   "id": "81258a50",
   "metadata": {},
   "source": [
    "### Data cleaning"
   ]
  },
  {
   "cell_type": "markdown",
   "id": "1553a64c",
   "metadata": {},
   "source": [
    "### Checking for null values"
   ]
  },
  {
   "cell_type": "code",
   "execution_count": 9,
   "id": "61e8d22b",
   "metadata": {},
   "outputs": [
    {
     "data": {
      "text/plain": [
       "sepal_length    0\n",
       "sepal_width     0\n",
       "petal_length    0\n",
       "petal_width     0\n",
       "Target          0\n",
       "dtype: int64"
      ]
     },
     "execution_count": 9,
     "metadata": {},
     "output_type": "execute_result"
    }
   ],
   "source": [
    "dataset.isna().sum()"
   ]
  },
  {
   "cell_type": "markdown",
   "id": "bc3db6b2",
   "metadata": {},
   "source": [
    "### Checking for outlier"
   ]
  },
  {
   "cell_type": "code",
   "execution_count": 10,
   "id": "97299e20",
   "metadata": {},
   "outputs": [
    {
     "data": {
      "text/plain": [
       "<AxesSubplot:>"
      ]
     },
     "execution_count": 10,
     "metadata": {},
     "output_type": "execute_result"
    },
    {
     "data": {
      "image/png": "[encoded data removed]",
      "text/plain": [
       "<Figure size 1080x720 with 1 Axes>"
      ]
     },
     "metadata": {
      "needs_background": "light"
     },
     "output_type": "display_data"
    }
   ],
   "source": [
    "plt.figure(figsize=(15,10))\n",
    "sns.boxplot(data=dataset)"
   ]
  },
  {
   "cell_type": "markdown",
   "id": "168fc781",
   "metadata": {},
   "source": [
    "### Handling outlier"
   ]
  },
  {
   "cell_type": "code",
   "execution_count": 11,
   "id": "2dbd03cf",
   "metadata": {},
   "outputs": [
    {
     "data": {
      "text/plain": [
       "Index(['sepal_length', 'sepal_width', 'petal_length', 'petal_width'], dtype='object')"
      ]
     },
     "execution_count": 11,
     "metadata": {},
     "output_type": "execute_result"
    }
   ],
   "source": [
    "col=dataset.select_dtypes(\"float64\").columns\n",
    "col"
   ]
  },
  {
   "cell_type": "code",
   "execution_count": 12,
   "id": "71cbc620",
   "metadata": {},
   "outputs": [
    {
     "name": "stderr",
     "output_type": "stream",
     "text": [
      "C:\\Users\\yamin\\AppData\\Local\\Temp\\ipykernel_8188\\285125649.py:3: SettingWithCopyWarning: \n",
      "A value is trying to be set on a copy of a slice from a DataFrame\n",
      "\n",
      "See the caveats in the documentation: https://pandas.pydata.org/pandas-docs/stable/user_guide/indexing.html#returning-a-view-versus-a-copy\n",
      "  dataset[i][dataset[i] <= percentiles[0]] = percentiles[0]\n",
      "C:\\Users\\yamin\\AppData\\Local\\Temp\\ipykernel_8188\\285125649.py:4: SettingWithCopyWarning: \n",
      "A value is trying to be set on a copy of a slice from a DataFrame\n",
      "\n",
      "See the caveats in the documentation: https://pandas.pydata.org/pandas-docs/stable/user_guide/indexing.html#returning-a-view-versus-a-copy\n",
      "  dataset[i][dataset[i] >= percentiles[1]] = percentiles[1]\n"
     ]
    }
   ],
   "source": [
    "for i in col:\n",
    "    percentiles = dataset[i].quantile([0.25,0.75]).values\n",
    "    dataset[i][dataset[i] <= percentiles[0]] = percentiles[0]\n",
    "    dataset[i][dataset[i] >= percentiles[1]] = percentiles[1]"
   ]
  },
  {
   "cell_type": "code",
   "execution_count": 13,
   "id": "69885941",
   "metadata": {},
   "outputs": [
    {
     "data": {
      "text/plain": [
       "<AxesSubplot:>"
      ]
     },
     "execution_count": 13,
     "metadata": {},
     "output_type": "execute_result"
    },
    {
     "data": {
      "image/png": "[encoded data removed]",
      "text/plain": [
       "<Figure size 1080x720 with 1 Axes>"
      ]
     },
     "metadata": {
      "needs_background": "light"
     },
     "output_type": "display_data"
    }
   ],
   "source": [
    "plt.figure(figsize=(15,10))\n",
    "sns.boxplot(data=dataset)"
   ]
  },
  {
   "cell_type": "code",
   "execution_count": 14,
   "id": "af33aaf7",
   "metadata": {},
   "outputs": [],
   "source": [
    "x=dataset.iloc[:,:-1]\n",
    "y=dataset.iloc[:,-1]"
   ]
  },
  {
   "cell_type": "markdown",
   "id": "460fea99",
   "metadata": {},
   "source": [
    "## Data encoding"
   ]
  },
  {
   "cell_type": "code",
   "execution_count": 15,
   "id": "011ec80e",
   "metadata": {},
   "outputs": [],
   "source": [
    "from sklearn.preprocessing import LabelEncoder"
   ]
  },
  {
   "cell_type": "code",
   "execution_count": 16,
   "id": "7a3c0061",
   "metadata": {},
   "outputs": [],
   "source": [
    "le=LabelEncoder()"
   ]
  },
  {
   "cell_type": "code",
   "execution_count": 17,
   "id": "8738c404",
   "metadata": {},
   "outputs": [],
   "source": [
    "y=le.fit_transform(y)"
   ]
  },
  {
   "cell_type": "code",
   "execution_count": 18,
   "id": "b8a634b2",
   "metadata": {},
   "outputs": [
    {
     "data": {
      "text/plain": [
       "array([0, 0, 0, 0, 0, 0, 0, 0, 0, 0, 0, 0, 0, 0, 0, 0, 0, 0, 0, 0, 0, 0,\n",
       "       0, 0, 0, 0, 0, 0, 0, 0, 0, 0, 0, 0, 0, 0, 0, 0, 0, 0, 0, 0, 0, 0,\n",
       "       0, 0, 0, 0, 0, 0, 1, 1, 1, 1, 1, 1, 1, 1, 1, 1, 1, 1, 1, 1, 1, 1,\n",
       "       1, 1, 1, 1, 1, 1, 1, 1, 1, 1, 1, 1, 1, 1, 1, 1, 1, 1, 1, 1, 1, 1,\n",
       "       1, 1, 1, 1, 1, 1, 1, 1, 1, 1, 1, 1, 2, 2, 2, 2, 2, 2, 2, 2, 2, 2,\n",
       "       2, 2, 2, 2, 2, 2, 2, 2, 2, 2, 2, 2, 2, 2, 2, 2, 2, 2, 2, 2, 2, 2,\n",
       "       2, 2, 2, 2, 2, 2, 2, 2, 2, 2, 2, 2, 2, 2, 2, 2, 2, 2])"
      ]
     },
     "execution_count": 18,
     "metadata": {},
     "output_type": "execute_result"
    }
   ],
   "source": [
    "y"
   ]
  },
  {
   "cell_type": "markdown",
   "id": "6875269b",
   "metadata": {},
   "source": [
    "## Feature scaling"
   ]
  },
  {
   "cell_type": "code",
   "execution_count": 19,
   "id": "f3022782",
   "metadata": {},
   "outputs": [],
   "source": [
    "from sklearn.preprocessing import StandardScaler"
   ]
  },
  {
   "cell_type": "code",
   "execution_count": 20,
   "id": "cb5684e7",
   "metadata": {},
   "outputs": [],
   "source": [
    "\n",
    "sc=StandardScaler()\n",
    "x=sc.fit_transform(x)"
   ]
  },
  {
   "cell_type": "code",
   "execution_count": 21,
   "id": "40707b44",
   "metadata": {},
   "outputs": [
    {
     "data": {
      "text/plain": [
       "array([[-1.27230849,  1.28300581, -1.36827856, -1.35812345],\n",
       "       [-1.27230849, -0.19738551, -1.36827856, -1.35812345],\n",
       "       [-1.27230849,  0.78954203, -1.36827856, -1.35812345],\n",
       "       [-1.27230849,  0.29607826, -1.36827856, -1.35812345],\n",
       "       [-1.27230849,  1.28300581, -1.36827856, -1.35812345],\n",
       "       [-0.70823084,  1.28300581, -1.30140277, -1.19669832],\n",
       "       [-1.27230849,  1.28300581, -1.36827856, -1.35812345],\n",
       "       [-1.27230849,  1.28300581, -1.36827856, -1.35812345],\n",
       "       [-1.27230849, -0.69084928, -1.36827856, -1.35812345],\n",
       "       [-1.27230849,  0.29607826, -1.36827856, -1.35812345],\n",
       "       [-0.70823084,  1.28300581, -1.36827856, -1.35812345],\n",
       "       [-1.27230849,  1.28300581, -1.36827856, -1.35812345],\n",
       "       [-1.27230849, -0.19738551, -1.36827856, -1.35812345],\n",
       "       [-1.27230849, -0.19738551, -1.36827856, -1.35812345],\n",
       "       [ 0.04387271,  1.28300581, -1.36827856, -1.35812345],\n",
       "       [-0.14415318,  1.28300581, -1.36827856, -1.19669832],\n",
       "       [-0.70823084,  1.28300581, -1.36827856, -1.19669832],\n",
       "       [-1.27230849,  1.28300581, -1.36827856, -1.35812345],\n",
       "       [-0.14415318,  1.28300581, -1.30140277, -1.35812345],\n",
       "       [-1.27230849,  1.28300581, -1.36827856, -1.35812345],\n",
       "       [-0.70823084,  1.28300581, -1.30140277, -1.35812345],\n",
       "       [-1.27230849,  1.28300581, -1.36827856, -1.19669832],\n",
       "       [-1.27230849,  1.28300581, -1.36827856, -1.35812345],\n",
       "       [-1.27230849,  1.28300581, -1.30140277, -1.03527319],\n",
       "       [-1.27230849,  1.28300581, -1.1676512 , -1.35812345],\n",
       "       [-1.27230849, -0.19738551, -1.36827856, -1.35812345],\n",
       "       [-1.27230849,  1.28300581, -1.36827856, -1.19669832],\n",
       "       [-1.08428261,  1.28300581, -1.36827856, -1.35812345],\n",
       "       [-1.08428261,  1.28300581, -1.36827856, -1.35812345],\n",
       "       [-1.27230849,  0.78954203, -1.36827856, -1.35812345],\n",
       "       [-1.27230849,  0.29607826, -1.36827856, -1.35812345],\n",
       "       [-0.70823084,  1.28300581, -1.36827856, -1.19669832],\n",
       "       [-1.08428261,  1.28300581, -1.36827856, -1.35812345],\n",
       "       [-0.52020495,  1.28300581, -1.36827856, -1.35812345],\n",
       "       [-1.27230849,  0.29607826, -1.36827856, -1.35812345],\n",
       "       [-1.27230849,  0.78954203, -1.36827856, -1.35812345],\n",
       "       [-0.52020495,  1.28300581, -1.36827856, -1.35812345],\n",
       "       [-1.27230849,  0.29607826, -1.36827856, -1.35812345],\n",
       "       [-1.27230849, -0.19738551, -1.36827856, -1.35812345],\n",
       "       [-1.27230849,  1.28300581, -1.36827856, -1.35812345],\n",
       "       [-1.27230849,  1.28300581, -1.36827856, -1.35812345],\n",
       "       [-1.27230849, -1.18431305, -1.36827856, -1.35812345],\n",
       "       [-1.27230849,  0.78954203, -1.36827856, -1.35812345],\n",
       "       [-1.27230849,  1.28300581, -1.36827856, -0.87384805],\n",
       "       [-1.27230849,  1.28300581, -1.1676512 , -1.19669832],\n",
       "       [-1.27230849, -0.19738551, -1.36827856, -1.35812345],\n",
       "       [-1.27230849,  1.28300581, -1.36827856, -1.35812345],\n",
       "       [-1.27230849,  0.78954203, -1.36827856, -1.35812345],\n",
       "       [-0.89625672,  1.28300581, -1.36827856, -1.35812345],\n",
       "       [-1.27230849,  1.28300581, -1.36827856, -1.35812345],\n",
       "       [ 1.17202802,  0.78954203,  0.70487077,  0.41755301],\n",
       "       [ 1.17202802,  0.78954203,  0.5711192 ,  0.57897814],\n",
       "       [ 1.17202802,  0.29607826,  0.83862234,  0.57897814],\n",
       "       [-0.52020495, -1.18431305,  0.23674028,  0.25612788],\n",
       "       [ 1.17202802, -1.18431305,  0.63799499,  0.57897814],\n",
       "       [-0.14415318, -1.18431305,  0.5711192 ,  0.25612788],\n",
       "       [ 0.98400214,  1.28300581,  0.70487077,  0.74040328],\n",
       "       [-1.27230849, -1.18431305, -0.23139022, -0.22814752],\n",
       "       [ 1.17202802, -0.69084928,  0.63799499,  0.25612788],\n",
       "       [-1.08428261, -1.18431305,  0.16986449,  0.41755301],\n",
       "       [-1.27230849, -1.18431305, -0.09763865, -0.22814752],\n",
       "       [ 0.23189859, -0.19738551,  0.37049185,  0.57897814],\n",
       "       [ 0.41992448, -1.18431305,  0.23674028, -0.22814752],\n",
       "       [ 0.60795036, -0.69084928,  0.70487077,  0.41755301],\n",
       "       [-0.33217906, -0.69084928, -0.03076286,  0.25612788],\n",
       "       [ 1.17202802,  0.29607826,  0.50424342,  0.41755301],\n",
       "       [-0.33217906, -0.19738551,  0.5711192 ,  0.57897814],\n",
       "       [ 0.04387271, -1.18431305,  0.30361606, -0.22814752],\n",
       "       [ 0.79597625, -1.18431305,  0.5711192 ,  0.57897814],\n",
       "       [-0.33217906, -1.18431305,  0.16986449, -0.06672239],\n",
       "       [ 0.23189859,  0.78954203,  0.77174656,  1.06325354],\n",
       "       [ 0.60795036, -1.18431305,  0.23674028,  0.25612788],\n",
       "       [ 0.98400214, -1.18431305,  0.83862234,  0.57897814],\n",
       "       [ 0.60795036, -1.18431305,  0.70487077,  0.09470274],\n",
       "       [ 1.17202802, -0.69084928,  0.43736763,  0.25612788],\n",
       "       [ 1.17202802, -0.19738551,  0.50424342,  0.41755301],\n",
       "       [ 1.17202802, -1.18431305,  0.77174656,  0.41755301],\n",
       "       [ 1.17202802, -0.19738551,  0.90549813,  0.90182841],\n",
       "       [ 0.41992448, -0.69084928,  0.5711192 ,  0.57897814],\n",
       "       [-0.14415318, -1.18431305, -0.09763865, -0.22814752],\n",
       "       [-0.52020495, -1.18431305,  0.10298871, -0.06672239],\n",
       "       [-0.52020495, -1.18431305,  0.03611292, -0.22814752],\n",
       "       [ 0.04387271, -1.18431305,  0.16986449,  0.09470274],\n",
       "       [ 0.41992448, -1.18431305,  0.97237391,  0.74040328],\n",
       "       [-0.70823084, -0.19738551,  0.5711192 ,  0.57897814],\n",
       "       [ 0.41992448,  1.28300581,  0.5711192 ,  0.74040328],\n",
       "       [ 1.17202802,  0.29607826,  0.70487077,  0.57897814],\n",
       "       [ 0.98400214, -1.18431305,  0.50424342,  0.25612788],\n",
       "       [-0.33217906, -0.19738551,  0.30361606,  0.25612788],\n",
       "       [-0.52020495, -1.18431305,  0.23674028,  0.25612788],\n",
       "       [-0.52020495, -1.18431305,  0.50424342,  0.09470274],\n",
       "       [ 0.60795036, -0.19738551,  0.63799499,  0.41755301],\n",
       "       [ 0.04387271, -1.18431305,  0.23674028,  0.09470274],\n",
       "       [-1.27230849, -1.18431305, -0.23139022, -0.22814752],\n",
       "       [-0.33217906, -1.18431305,  0.37049185,  0.25612788],\n",
       "       [-0.14415318, -0.19738551,  0.37049185,  0.09470274],\n",
       "       [-0.14415318, -0.69084928,  0.37049185,  0.25612788],\n",
       "       [ 0.79597625, -0.69084928,  0.43736763,  0.25612788],\n",
       "       [-1.27230849, -1.18431305, -0.43201757, -0.06672239],\n",
       "       [-0.14415318, -1.18431305,  0.30361606,  0.25612788],\n",
       "       [ 0.98400214,  1.28300581,  0.97237391,  1.06325354],\n",
       "       [ 0.04387271, -1.18431305,  0.97237391,  1.06325354],\n",
       "       [ 1.17202802, -0.19738551,  0.97237391,  1.06325354],\n",
       "       [ 0.98400214, -0.69084928,  0.97237391,  1.06325354],\n",
       "       [ 1.17202802, -0.19738551,  0.97237391,  1.06325354],\n",
       "       [ 1.17202802, -0.19738551,  0.97237391,  1.06325354],\n",
       "       [-1.27230849, -1.18431305,  0.5711192 ,  0.90182841],\n",
       "       [ 1.17202802, -0.69084928,  0.97237391,  1.06325354],\n",
       "       [ 1.17202802, -1.18431305,  0.97237391,  1.06325354],\n",
       "       [ 1.17202802,  1.28300581,  0.97237391,  1.06325354],\n",
       "       [ 1.17202802,  0.78954203,  0.97237391,  1.06325354],\n",
       "       [ 1.17202802, -1.18431305,  0.97237391,  1.06325354],\n",
       "       [ 1.17202802, -0.19738551,  0.97237391,  1.06325354],\n",
       "       [-0.14415318, -1.18431305,  0.90549813,  1.06325354],\n",
       "       [ 0.04387271, -1.18431305,  0.97237391,  1.06325354],\n",
       "       [ 1.17202802,  0.78954203,  0.97237391,  1.06325354],\n",
       "       [ 1.17202802, -0.19738551,  0.97237391,  1.06325354],\n",
       "       [ 1.17202802,  1.28300581,  0.97237391,  1.06325354],\n",
       "       [ 1.17202802, -1.18431305,  0.97237391,  1.06325354],\n",
       "       [ 0.41992448, -1.18431305,  0.90549813,  0.57897814],\n",
       "       [ 1.17202802,  0.78954203,  0.97237391,  1.06325354],\n",
       "       [-0.33217906, -1.18431305,  0.83862234,  1.06325354],\n",
       "       [ 1.17202802, -1.18431305,  0.97237391,  1.06325354],\n",
       "       [ 0.98400214, -1.18431305,  0.83862234,  1.06325354],\n",
       "       [ 1.17202802,  1.28300581,  0.97237391,  1.06325354],\n",
       "       [ 1.17202802,  0.78954203,  0.97237391,  1.06325354],\n",
       "       [ 0.79597625, -1.18431305,  0.77174656,  1.06325354],\n",
       "       [ 0.60795036, -0.19738551,  0.83862234,  1.06325354],\n",
       "       [ 1.17202802, -1.18431305,  0.97237391,  1.06325354],\n",
       "       [ 1.17202802, -0.19738551,  0.97237391,  0.74040328],\n",
       "       [ 1.17202802, -1.18431305,  0.97237391,  1.06325354],\n",
       "       [ 1.17202802,  1.28300581,  0.97237391,  1.06325354],\n",
       "       [ 1.17202802, -1.18431305,  0.97237391,  1.06325354],\n",
       "       [ 0.98400214, -1.18431305,  0.97237391,  0.57897814],\n",
       "       [ 0.60795036, -1.18431305,  0.97237391,  0.41755301],\n",
       "       [ 1.17202802, -0.19738551,  0.97237391,  1.06325354],\n",
       "       [ 0.98400214,  1.28300581,  0.97237391,  1.06325354],\n",
       "       [ 1.17202802,  0.29607826,  0.97237391,  1.06325354],\n",
       "       [ 0.41992448, -0.19738551,  0.77174656,  1.06325354],\n",
       "       [ 1.17202802,  0.29607826,  0.97237391,  1.06325354],\n",
       "       [ 1.17202802,  0.29607826,  0.97237391,  1.06325354],\n",
       "       [ 1.17202802,  0.29607826,  0.97237391,  1.06325354],\n",
       "       [ 0.04387271, -1.18431305,  0.97237391,  1.06325354],\n",
       "       [ 1.17202802,  0.78954203,  0.97237391,  1.06325354],\n",
       "       [ 1.17202802,  1.28300581,  0.97237391,  1.06325354],\n",
       "       [ 1.17202802, -0.19738551,  0.97237391,  1.06325354],\n",
       "       [ 0.98400214, -1.18431305,  0.90549813,  1.06325354],\n",
       "       [ 1.17202802, -0.19738551,  0.97237391,  1.06325354],\n",
       "       [ 0.79597625,  1.28300581,  0.97237391,  1.06325354],\n",
       "       [ 0.23189859, -0.19738551,  0.97237391,  1.06325354]])"
      ]
     },
     "execution_count": 21,
     "metadata": {},
     "output_type": "execute_result"
    }
   ],
   "source": [
    "x"
   ]
  },
  {
   "cell_type": "markdown",
   "id": "98a57d8e",
   "metadata": {},
   "source": [
    "## Data train test split"
   ]
  },
  {
   "cell_type": "code",
   "execution_count": 22,
   "id": "2bfd681d",
   "metadata": {},
   "outputs": [],
   "source": [
    "from sklearn.model_selection import train_test_split"
   ]
  },
  {
   "cell_type": "code",
   "execution_count": 23,
   "id": "77e51786",
   "metadata": {},
   "outputs": [],
   "source": [
    "x_train,x_test,y_train,y_test=train_test_split(x,y,test_size=0.25,random_state=45)"
   ]
  },
  {
   "cell_type": "code",
   "execution_count": 24,
   "id": "3fcacfd6",
   "metadata": {},
   "outputs": [
    {
     "data": {
      "text/plain": [
       "((112, 4), (38, 4), (112,), (38,))"
      ]
     },
     "execution_count": 24,
     "metadata": {},
     "output_type": "execute_result"
    }
   ],
   "source": [
    "x_train.shape,x_test.shape,y_train.shape,y_test.shape"
   ]
  },
  {
   "cell_type": "markdown",
   "id": "df57b922",
   "metadata": {},
   "source": [
    "## Model building"
   ]
  },
  {
   "cell_type": "code",
   "execution_count": 25,
   "id": "8bc2de4e",
   "metadata": {},
   "outputs": [],
   "source": [
    "from sklearn.metrics import accuracy_score,confusion_matrix,precision_score,recall_score,f1_score,roc_curve,classification_report"
   ]
  },
  {
   "cell_type": "markdown",
   "id": "6766147c",
   "metadata": {},
   "source": [
    "### Logistic Regression"
   ]
  },
  {
   "cell_type": "code",
   "execution_count": 26,
   "id": "6cb9877f",
   "metadata": {},
   "outputs": [],
   "source": [
    "from sklearn.linear_model import LogisticRegression "
   ]
  },
  {
   "cell_type": "code",
   "execution_count": 27,
   "id": "e6e80fbf",
   "metadata": {},
   "outputs": [],
   "source": [
    "logistic_model=LogisticRegression()\n",
    "logistic_model.fit(x_train,y_train)\n",
    "y_pred_using_logistic=logistic_model.predict(x_test)"
   ]
  },
  {
   "cell_type": "code",
   "execution_count": 28,
   "id": "4813417a",
   "metadata": {},
   "outputs": [
    {
     "data": {
      "text/plain": [
       "0.9473684210526315"
      ]
     },
     "execution_count": 28,
     "metadata": {},
     "output_type": "execute_result"
    }
   ],
   "source": [
    "accuracy=accuracy_score(y_test,y_pred_using_logistic)\n",
    "accuracy"
   ]
  },
  {
   "cell_type": "markdown",
   "id": "8324f3a4",
   "metadata": {},
   "source": [
    "### KNN Classification"
   ]
  },
  {
   "cell_type": "code",
   "execution_count": 29,
   "id": "02795c53",
   "metadata": {},
   "outputs": [],
   "source": [
    "from sklearn.neighbors import KNeighborsClassifier "
   ]
  },
  {
   "cell_type": "code",
   "execution_count": 30,
   "id": "fadf78e1",
   "metadata": {},
   "outputs": [],
   "source": [
    "KNN_model=KNeighborsClassifier()\n",
    "KNN_model.fit(x_train,y_train)\n",
    "y_pred_using_KNN=KNN_model.predict(x_test)"
   ]
  },
  {
   "cell_type": "code",
   "execution_count": 31,
   "id": "df6fc683",
   "metadata": {},
   "outputs": [
    {
     "data": {
      "text/plain": [
       "0.9210526315789473"
      ]
     },
     "execution_count": 31,
     "metadata": {},
     "output_type": "execute_result"
    }
   ],
   "source": [
    "accuracy=accuracy_score(y_test,y_pred_using_KNN)\n",
    "accuracy"
   ]
  },
  {
   "cell_type": "markdown",
   "id": "ca99f857",
   "metadata": {},
   "source": [
    "### Support vector classification"
   ]
  },
  {
   "cell_type": "code",
   "execution_count": 32,
   "id": "050f1dc2",
   "metadata": {},
   "outputs": [],
   "source": [
    "from sklearn.svm import SVC\n",
    "#hyperparameter tuning libraries\n",
    "from sklearn.model_selection import GridSearchCV"
   ]
  },
  {
   "cell_type": "code",
   "execution_count": 33,
   "id": "38ab49e4",
   "metadata": {},
   "outputs": [
    {
     "name": "stdout",
     "output_type": "stream",
     "text": [
      "{'C': 1, 'gamma': 1, 'kernel': 'poly'}\n"
     ]
    }
   ],
   "source": [
    "param_grid = {'C': [0.1, 1, 10, 100, 1000], \n",
    "              'gamma': [1, 0.1, 0.01, 0.001, 0.0001],\n",
    "              'kernel': ['rbf','linear','poly','sigmoid']} \n",
    "SVC_model = GridSearchCV(SVC(), param_grid)\n",
    "SVC_model.fit(x_train, y_train)\n",
    "y_pred_using_SVC=SVC_model.predict(x_test)\n",
    "print(SVC_model.best_params_)"
   ]
  },
  {
   "cell_type": "code",
   "execution_count": 34,
   "id": "9532d4b7",
   "metadata": {},
   "outputs": [
    {
     "data": {
      "text/plain": [
       "0.9210526315789473"
      ]
     },
     "execution_count": 34,
     "metadata": {},
     "output_type": "execute_result"
    }
   ],
   "source": [
    "accuracy=accuracy_score(y_test,y_pred_using_SVC)\n",
    "accuracy"
   ]
  },
  {
   "cell_type": "markdown",
   "id": "52708e68",
   "metadata": {},
   "source": [
    "### Decision tree classification"
   ]
  },
  {
   "cell_type": "code",
   "execution_count": 35,
   "id": "5644fee6",
   "metadata": {},
   "outputs": [],
   "source": [
    "from sklearn.tree import DecisionTreeClassifier\n",
    "from sklearn import tree"
   ]
  },
  {
   "cell_type": "code",
   "execution_count": 36,
   "id": "6f7cb68a",
   "metadata": {},
   "outputs": [],
   "source": [
    "Decisiontree_model=DecisionTreeClassifier()\n",
    "Decisiontree_model.fit(x_train,y_train)\n",
    "y_pred_using_Decisiontree=Decisiontree_model.predict(x_test)"
   ]
  },
  {
   "cell_type": "code",
   "execution_count": 37,
   "id": "2f7465c3",
   "metadata": {},
   "outputs": [
    {
     "data": {
      "text/plain": [
       "[Text(0.34615384615384615, 0.9166666666666666, 'X[2] <= -0.8\\ngini = 0.665\\nsamples = 112\\nvalue = [36, 41, 35]'),\n",
       " Text(0.2692307692307692, 0.75, 'gini = 0.0\\nsamples = 36\\nvalue = [36, 0, 0]'),\n",
       " Text(0.4230769230769231, 0.75, 'X[3] <= 0.821\\ngini = 0.497\\nsamples = 76\\nvalue = [0, 41, 35]'),\n",
       " Text(0.15384615384615385, 0.5833333333333334, 'X[2] <= 0.905\\ngini = 0.049\\nsamples = 40\\nvalue = [0, 39, 1]'),\n",
       " Text(0.07692307692307693, 0.4166666666666667, 'gini = 0.0\\nsamples = 38\\nvalue = [0, 38, 0]'),\n",
       " Text(0.23076923076923078, 0.4166666666666667, 'X[3] <= 0.579\\ngini = 0.5\\nsamples = 2\\nvalue = [0, 1, 1]'),\n",
       " Text(0.15384615384615385, 0.25, 'gini = 0.0\\nsamples = 1\\nvalue = [0, 0, 1]'),\n",
       " Text(0.3076923076923077, 0.25, 'gini = 0.0\\nsamples = 1\\nvalue = [0, 1, 0]'),\n",
       " Text(0.6923076923076923, 0.5833333333333334, 'X[3] <= 0.983\\ngini = 0.105\\nsamples = 36\\nvalue = [0, 2, 34]'),\n",
       " Text(0.5384615384615384, 0.4166666666666667, 'X[2] <= 0.738\\ngini = 0.5\\nsamples = 2\\nvalue = [0, 1, 1]'),\n",
       " Text(0.46153846153846156, 0.25, 'gini = 0.0\\nsamples = 1\\nvalue = [0, 0, 1]'),\n",
       " Text(0.6153846153846154, 0.25, 'gini = 0.0\\nsamples = 1\\nvalue = [0, 1, 0]'),\n",
       " Text(0.8461538461538461, 0.4166666666666667, 'X[2] <= 0.805\\ngini = 0.057\\nsamples = 34\\nvalue = [0, 1, 33]'),\n",
       " Text(0.7692307692307693, 0.25, 'X[0] <= 0.326\\ngini = 0.444\\nsamples = 3\\nvalue = [0, 1, 2]'),\n",
       " Text(0.6923076923076923, 0.08333333333333333, 'gini = 0.0\\nsamples = 1\\nvalue = [0, 1, 0]'),\n",
       " Text(0.8461538461538461, 0.08333333333333333, 'gini = 0.0\\nsamples = 2\\nvalue = [0, 0, 2]'),\n",
       " Text(0.9230769230769231, 0.25, 'gini = 0.0\\nsamples = 31\\nvalue = [0, 0, 31]')]"
      ]
     },
     "execution_count": 37,
     "metadata": {},
     "output_type": "execute_result"
    },
    {
     "data": {
      "image/png": "[encoded data removed]",
      "text/plain": [
       "<Figure size 1080x1080 with 1 Axes>"
      ]
     },
     "metadata": {
      "needs_background": "light"
     },
     "output_type": "display_data"
    }
   ],
   "source": [
    "plt.figure(figsize=(15,15))\n",
    "tree.plot_tree(Decisiontree_model,filled=True)"
   ]
  },
  {
   "cell_type": "code",
   "execution_count": 38,
   "id": "56d44f50",
   "metadata": {},
   "outputs": [
    {
     "data": {
      "text/plain": [
       "0.9736842105263158"
      ]
     },
     "execution_count": 38,
     "metadata": {},
     "output_type": "execute_result"
    }
   ],
   "source": [
    "accuracy=accuracy_score(y_test,y_pred_using_Decisiontree)\n",
    "accuracy"
   ]
  },
  {
   "cell_type": "markdown",
   "id": "43c4753c",
   "metadata": {},
   "source": [
    "### Random Forest Classification"
   ]
  },
  {
   "cell_type": "code",
   "execution_count": 39,
   "id": "6f40c07d",
   "metadata": {},
   "outputs": [],
   "source": [
    "from sklearn.ensemble import RandomForestClassifier"
   ]
  },
  {
   "cell_type": "code",
   "execution_count": 40,
   "id": "5afabdb1",
   "metadata": {},
   "outputs": [],
   "source": [
    "random_forest_model=RandomForestClassifier(random_state=100)\n",
    "random_forest_model.fit(x_train,y_train)\n",
    "y_pred_using_random_forest=random_forest_model.predict(x_test)"
   ]
  },
  {
   "cell_type": "code",
   "execution_count": 41,
   "id": "7388e87d",
   "metadata": {},
   "outputs": [
    {
     "data": {
      "text/plain": [
       "0.9210526315789473"
      ]
     },
     "execution_count": 41,
     "metadata": {},
     "output_type": "execute_result"
    }
   ],
   "source": [
    "accuracy=accuracy_score(y_test,y_pred_using_random_forest)\n",
    "accuracy"
   ]
  },
  {
   "cell_type": "markdown",
   "id": "33555e97",
   "metadata": {},
   "source": [
    "### Naive bayes "
   ]
  },
  {
   "cell_type": "code",
   "execution_count": 57,
   "id": "5a930da2",
   "metadata": {},
   "outputs": [],
   "source": [
    "from sklearn.naive_bayes import GaussianNB"
   ]
  },
  {
   "cell_type": "code",
   "execution_count": 58,
   "id": "f797c4aa",
   "metadata": {},
   "outputs": [],
   "source": [
    "naive_bayes_model=GaussianNB()\n",
    "naive_bayes_model.fit(x_train,y_train)\n",
    "y_pred_using_naive_bayes=naive_bayes_model.predict(x_test)"
   ]
  },
  {
   "cell_type": "code",
   "execution_count": 59,
   "id": "1460b4cd",
   "metadata": {},
   "outputs": [
    {
     "data": {
      "text/plain": [
       "0.9473684210526315"
      ]
     },
     "execution_count": 59,
     "metadata": {},
     "output_type": "execute_result"
    }
   ],
   "source": [
    "accuracy=accuracy_score(y_test,y_pred_using_naive_bayes)\n",
    "accuracy"
   ]
  },
  {
   "cell_type": "code",
   "execution_count": null,
   "id": "510b3564",
   "metadata": {},
   "outputs": [],
   "source": []
  }
 ],
 "metadata": {
  "kernelspec": {
   "display_name": "Python 3 (ipykernel)",
   "language": "python",
   "name": "python3"
  },
  "language_info": {
   "codemirror_mode": {
    "name": "ipython",
    "version": 3
   },
   "file_extension": ".py",
   "mimetype": "text/x-python",
   "name": "python",
   "nbconvert_exporter": "python",
   "pygments_lexer": "ipython3",
   "version": "3.9.12"
  }
 },
 "nbformat": 4,
 "nbformat_minor": 5
}
