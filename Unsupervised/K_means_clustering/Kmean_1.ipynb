{
 "cells": [
  {
   "cell_type": "markdown",
   "id": "1bcec0e3",
   "metadata": {},
   "source": [
    "1. Build a machine learning model to create group of mall customers\n",
    "based on their annual income and spending score for a given\n",
    "dataset\n"
   ]
  },
  {
   "cell_type": "markdown",
   "id": "198a2301",
   "metadata": {},
   "source": [
    "## Importing libraries"
   ]
  },
  {
   "cell_type": "code",
   "execution_count": 1,
   "id": "96e3c0ff",
   "metadata": {},
   "outputs": [],
   "source": [
    "import numpy as np\n",
    "import pandas as pd\n",
    "import matplotlib.pyplot as plt\n",
    "import seaborn as sns"
   ]
  },
  {
   "cell_type": "markdown",
   "id": "83816dbc",
   "metadata": {},
   "source": [
    "## importing dataset"
   ]
  },
  {
   "cell_type": "code",
   "execution_count": 2,
   "id": "f631dedf",
   "metadata": {},
   "outputs": [],
   "source": [
    "dataset=pd.read_csv(\"Mall_Customers (1).csv\")"
   ]
  },
  {
   "cell_type": "code",
   "execution_count": 3,
   "id": "357cb8d6",
   "metadata": {},
   "outputs": [
    {
     "data": {
      "text/html": [
       "<div>\n",
       "<style scoped>\n",
       "    .dataframe tbody tr th:only-of-type {\n",
       "        vertical-align: middle;\n",
       "    }\n",
       "\n",
       "    .dataframe tbody tr th {\n",
       "        vertical-align: top;\n",
       "    }\n",
       "\n",
       "    .dataframe thead th {\n",
       "        text-align: right;\n",
       "    }\n",
       "</style>\n",
       "<table border=\"1\" class=\"dataframe\">\n",
       "  <thead>\n",
       "    <tr style=\"text-align: right;\">\n",
       "      <th></th>\n",
       "      <th>CustomerID</th>\n",
       "      <th>Genre</th>\n",
       "      <th>Age</th>\n",
       "      <th>Annual Income (k$)</th>\n",
       "      <th>Spending Score (1-100)</th>\n",
       "    </tr>\n",
       "  </thead>\n",
       "  <tbody>\n",
       "    <tr>\n",
       "      <th>0</th>\n",
       "      <td>1</td>\n",
       "      <td>Male</td>\n",
       "      <td>19</td>\n",
       "      <td>15</td>\n",
       "      <td>39</td>\n",
       "    </tr>\n",
       "    <tr>\n",
       "      <th>1</th>\n",
       "      <td>2</td>\n",
       "      <td>Male</td>\n",
       "      <td>21</td>\n",
       "      <td>15</td>\n",
       "      <td>81</td>\n",
       "    </tr>\n",
       "    <tr>\n",
       "      <th>2</th>\n",
       "      <td>3</td>\n",
       "      <td>Female</td>\n",
       "      <td>20</td>\n",
       "      <td>16</td>\n",
       "      <td>6</td>\n",
       "    </tr>\n",
       "    <tr>\n",
       "      <th>3</th>\n",
       "      <td>4</td>\n",
       "      <td>Female</td>\n",
       "      <td>23</td>\n",
       "      <td>16</td>\n",
       "      <td>77</td>\n",
       "    </tr>\n",
       "    <tr>\n",
       "      <th>4</th>\n",
       "      <td>5</td>\n",
       "      <td>Female</td>\n",
       "      <td>31</td>\n",
       "      <td>17</td>\n",
       "      <td>40</td>\n",
       "    </tr>\n",
       "  </tbody>\n",
       "</table>\n",
       "</div>"
      ],
      "text/plain": [
       "   CustomerID   Genre  Age  Annual Income (k$)  Spending Score (1-100)\n",
       "0           1    Male   19                  15                      39\n",
       "1           2    Male   21                  15                      81\n",
       "2           3  Female   20                  16                       6\n",
       "3           4  Female   23                  16                      77\n",
       "4           5  Female   31                  17                      40"
      ]
     },
     "execution_count": 3,
     "metadata": {},
     "output_type": "execute_result"
    }
   ],
   "source": [
    "dataset.head()"
   ]
  },
  {
   "cell_type": "code",
   "execution_count": 4,
   "id": "decfb299",
   "metadata": {},
   "outputs": [],
   "source": [
    "dataset=dataset.iloc[:,3:5]"
   ]
  },
  {
   "cell_type": "code",
   "execution_count": 5,
   "id": "6814f7f5",
   "metadata": {},
   "outputs": [
    {
     "data": {
      "text/html": [
       "<div>\n",
       "<style scoped>\n",
       "    .dataframe tbody tr th:only-of-type {\n",
       "        vertical-align: middle;\n",
       "    }\n",
       "\n",
       "    .dataframe tbody tr th {\n",
       "        vertical-align: top;\n",
       "    }\n",
       "\n",
       "    .dataframe thead th {\n",
       "        text-align: right;\n",
       "    }\n",
       "</style>\n",
       "<table border=\"1\" class=\"dataframe\">\n",
       "  <thead>\n",
       "    <tr style=\"text-align: right;\">\n",
       "      <th></th>\n",
       "      <th>Annual Income (k$)</th>\n",
       "      <th>Spending Score (1-100)</th>\n",
       "    </tr>\n",
       "  </thead>\n",
       "  <tbody>\n",
       "    <tr>\n",
       "      <th>0</th>\n",
       "      <td>15</td>\n",
       "      <td>39</td>\n",
       "    </tr>\n",
       "    <tr>\n",
       "      <th>1</th>\n",
       "      <td>15</td>\n",
       "      <td>81</td>\n",
       "    </tr>\n",
       "    <tr>\n",
       "      <th>2</th>\n",
       "      <td>16</td>\n",
       "      <td>6</td>\n",
       "    </tr>\n",
       "    <tr>\n",
       "      <th>3</th>\n",
       "      <td>16</td>\n",
       "      <td>77</td>\n",
       "    </tr>\n",
       "    <tr>\n",
       "      <th>4</th>\n",
       "      <td>17</td>\n",
       "      <td>40</td>\n",
       "    </tr>\n",
       "    <tr>\n",
       "      <th>...</th>\n",
       "      <td>...</td>\n",
       "      <td>...</td>\n",
       "    </tr>\n",
       "    <tr>\n",
       "      <th>195</th>\n",
       "      <td>120</td>\n",
       "      <td>79</td>\n",
       "    </tr>\n",
       "    <tr>\n",
       "      <th>196</th>\n",
       "      <td>126</td>\n",
       "      <td>28</td>\n",
       "    </tr>\n",
       "    <tr>\n",
       "      <th>197</th>\n",
       "      <td>126</td>\n",
       "      <td>74</td>\n",
       "    </tr>\n",
       "    <tr>\n",
       "      <th>198</th>\n",
       "      <td>137</td>\n",
       "      <td>18</td>\n",
       "    </tr>\n",
       "    <tr>\n",
       "      <th>199</th>\n",
       "      <td>137</td>\n",
       "      <td>83</td>\n",
       "    </tr>\n",
       "  </tbody>\n",
       "</table>\n",
       "<p>200 rows × 2 columns</p>\n",
       "</div>"
      ],
      "text/plain": [
       "     Annual Income (k$)  Spending Score (1-100)\n",
       "0                    15                      39\n",
       "1                    15                      81\n",
       "2                    16                       6\n",
       "3                    16                      77\n",
       "4                    17                      40\n",
       "..                  ...                     ...\n",
       "195                 120                      79\n",
       "196                 126                      28\n",
       "197                 126                      74\n",
       "198                 137                      18\n",
       "199                 137                      83\n",
       "\n",
       "[200 rows x 2 columns]"
      ]
     },
     "execution_count": 5,
     "metadata": {},
     "output_type": "execute_result"
    }
   ],
   "source": [
    "dataset"
   ]
  },
  {
   "cell_type": "code",
   "execution_count": 6,
   "id": "3258c423",
   "metadata": {},
   "outputs": [
    {
     "name": "stdout",
     "output_type": "stream",
     "text": [
      "<class 'pandas.core.frame.DataFrame'>\n",
      "RangeIndex: 200 entries, 0 to 199\n",
      "Data columns (total 2 columns):\n",
      " #   Column                  Non-Null Count  Dtype\n",
      "---  ------                  --------------  -----\n",
      " 0   Annual Income (k$)      200 non-null    int64\n",
      " 1   Spending Score (1-100)  200 non-null    int64\n",
      "dtypes: int64(2)\n",
      "memory usage: 3.2 KB\n"
     ]
    }
   ],
   "source": [
    "dataset.info()"
   ]
  },
  {
   "cell_type": "code",
   "execution_count": 7,
   "id": "140eacb6",
   "metadata": {},
   "outputs": [
    {
     "data": {
      "text/html": [
       "<div>\n",
       "<style scoped>\n",
       "    .dataframe tbody tr th:only-of-type {\n",
       "        vertical-align: middle;\n",
       "    }\n",
       "\n",
       "    .dataframe tbody tr th {\n",
       "        vertical-align: top;\n",
       "    }\n",
       "\n",
       "    .dataframe thead th {\n",
       "        text-align: right;\n",
       "    }\n",
       "</style>\n",
       "<table border=\"1\" class=\"dataframe\">\n",
       "  <thead>\n",
       "    <tr style=\"text-align: right;\">\n",
       "      <th></th>\n",
       "      <th>Annual Income (k$)</th>\n",
       "      <th>Spending Score (1-100)</th>\n",
       "    </tr>\n",
       "  </thead>\n",
       "  <tbody>\n",
       "    <tr>\n",
       "      <th>count</th>\n",
       "      <td>200.000000</td>\n",
       "      <td>200.000000</td>\n",
       "    </tr>\n",
       "    <tr>\n",
       "      <th>mean</th>\n",
       "      <td>60.560000</td>\n",
       "      <td>50.200000</td>\n",
       "    </tr>\n",
       "    <tr>\n",
       "      <th>std</th>\n",
       "      <td>26.264721</td>\n",
       "      <td>25.823522</td>\n",
       "    </tr>\n",
       "    <tr>\n",
       "      <th>min</th>\n",
       "      <td>15.000000</td>\n",
       "      <td>1.000000</td>\n",
       "    </tr>\n",
       "    <tr>\n",
       "      <th>25%</th>\n",
       "      <td>41.500000</td>\n",
       "      <td>34.750000</td>\n",
       "    </tr>\n",
       "    <tr>\n",
       "      <th>50%</th>\n",
       "      <td>61.500000</td>\n",
       "      <td>50.000000</td>\n",
       "    </tr>\n",
       "    <tr>\n",
       "      <th>75%</th>\n",
       "      <td>78.000000</td>\n",
       "      <td>73.000000</td>\n",
       "    </tr>\n",
       "    <tr>\n",
       "      <th>max</th>\n",
       "      <td>137.000000</td>\n",
       "      <td>99.000000</td>\n",
       "    </tr>\n",
       "  </tbody>\n",
       "</table>\n",
       "</div>"
      ],
      "text/plain": [
       "       Annual Income (k$)  Spending Score (1-100)\n",
       "count          200.000000              200.000000\n",
       "mean            60.560000               50.200000\n",
       "std             26.264721               25.823522\n",
       "min             15.000000                1.000000\n",
       "25%             41.500000               34.750000\n",
       "50%             61.500000               50.000000\n",
       "75%             78.000000               73.000000\n",
       "max            137.000000               99.000000"
      ]
     },
     "execution_count": 7,
     "metadata": {},
     "output_type": "execute_result"
    }
   ],
   "source": [
    "dataset.describe()"
   ]
  },
  {
   "cell_type": "markdown",
   "id": "1346ace0",
   "metadata": {},
   "source": [
    "## Data preprocessing"
   ]
  },
  {
   "cell_type": "markdown",
   "id": "8519cded",
   "metadata": {},
   "source": [
    "## Data cleaning"
   ]
  },
  {
   "cell_type": "markdown",
   "id": "389874aa",
   "metadata": {},
   "source": [
    "### Cheking for null values"
   ]
  },
  {
   "cell_type": "code",
   "execution_count": 8,
   "id": "ad4be54a",
   "metadata": {},
   "outputs": [
    {
     "data": {
      "text/plain": [
       "Annual Income (k$)        0\n",
       "Spending Score (1-100)    0\n",
       "dtype: int64"
      ]
     },
     "execution_count": 8,
     "metadata": {},
     "output_type": "execute_result"
    }
   ],
   "source": [
    "dataset.isna().sum()"
   ]
  },
  {
   "cell_type": "markdown",
   "id": "d0c7960f",
   "metadata": {},
   "source": [
    "### Checking for outlier"
   ]
  },
  {
   "cell_type": "code",
   "execution_count": 9,
   "id": "0c288041",
   "metadata": {},
   "outputs": [
    {
     "data": {
      "text/plain": [
       "<AxesSubplot:>"
      ]
     },
     "execution_count": 9,
     "metadata": {},
     "output_type": "execute_result"
    },
    {
     "data": {
      "image/png": "[encoded data removed]",
      "text/plain": [
       "<Figure size 1080x720 with 1 Axes>"
      ]
     },
     "metadata": {
      "needs_background": "light"
     },
     "output_type": "display_data"
    }
   ],
   "source": [
    "plt.figure(figsize=(15,10))\n",
    "sns.boxplot(data=dataset)"
   ]
  },
  {
   "cell_type": "markdown",
   "id": "8c21ec47",
   "metadata": {},
   "source": [
    "### Handling for outlier"
   ]
  },
  {
   "cell_type": "code",
   "execution_count": 10,
   "id": "5ba75319",
   "metadata": {},
   "outputs": [
    {
     "name": "stderr",
     "output_type": "stream",
     "text": [
      "C:\\Users\\yamin\\AppData\\Local\\Temp\\ipykernel_12208\\3311194956.py:3: SettingWithCopyWarning: \n",
      "A value is trying to be set on a copy of a slice from a DataFrame\n",
      "\n",
      "See the caveats in the documentation: https://pandas.pydata.org/pandas-docs/stable/user_guide/indexing.html#returning-a-view-versus-a-copy\n",
      "  dataset[i][dataset[i] <= percentiles[0]] = percentiles[0]\n"
     ]
    }
   ],
   "source": [
    "for i in dataset.columns:\n",
    "    percentiles = dataset[i].quantile([0.25,0.75]).values\n",
    "    dataset[i][dataset[i] <= percentiles[0]] = percentiles[0]\n",
    "    dataset[i][dataset[i] >= percentiles[1]] = percentiles[1]"
   ]
  },
  {
   "cell_type": "code",
   "execution_count": 11,
   "id": "6ca694f8",
   "metadata": {
    "scrolled": true
   },
   "outputs": [
    {
     "data": {
      "text/plain": [
       "<AxesSubplot:>"
      ]
     },
     "execution_count": 11,
     "metadata": {},
     "output_type": "execute_result"
    },
    {
     "data": {
      "image/png": "[encoded data removed]",
      "text/plain": [
       "<Figure size 1080x720 with 1 Axes>"
      ]
     },
     "metadata": {
      "needs_background": "light"
     },
     "output_type": "display_data"
    }
   ],
   "source": [
    "plt.figure(figsize=(15,10))\n",
    "sns.boxplot(data=dataset)"
   ]
  },
  {
   "cell_type": "markdown",
   "id": "4a9fb7a1",
   "metadata": {},
   "source": [
    "## Feature scaling"
   ]
  },
  {
   "cell_type": "code",
   "execution_count": 12,
   "id": "b6e46290",
   "metadata": {},
   "outputs": [],
   "source": [
    "from sklearn.preprocessing import StandardScaler"
   ]
  },
  {
   "cell_type": "code",
   "execution_count": 13,
   "id": "63724c5f",
   "metadata": {},
   "outputs": [],
   "source": [
    "sc=StandardScaler()\n",
    "dataset=sc.fit_transform(dataset)"
   ]
  },
  {
   "cell_type": "code",
   "execution_count": 14,
   "id": "e3e0b50e",
   "metadata": {},
   "outputs": [
    {
     "data": {
      "text/plain": [
       "array([[-1.25246736, -0.8747878 ],\n",
       "       [-1.25246736,  1.37547021],\n",
       "       [-1.25246736, -1.15607005],\n",
       "       [-1.25246736,  1.37547021],\n",
       "       [-1.25246736, -0.80860374],\n",
       "       [-1.25246736,  1.37547021],\n",
       "       [-1.25246736, -1.15607005],\n",
       "       [-1.25246736,  1.37547021],\n",
       "       [-1.25246736, -1.15607005],\n",
       "       [-1.25246736,  1.30928615],\n",
       "       [-1.25246736, -1.15607005],\n",
       "       [-1.25246736,  1.37547021],\n",
       "       [-1.25246736, -1.15607005],\n",
       "       [-1.25246736,  1.37547021],\n",
       "       [-1.25246736, -1.15607005],\n",
       "       [-1.25246736,  1.37547021],\n",
       "       [-1.25246736, -1.13952404],\n",
       "       [-1.25246736,  0.91218179],\n",
       "       [-1.25246736, -1.15607005],\n",
       "       [-1.25246736,  1.37547021],\n",
       "       [-1.25246736, -1.13952404],\n",
       "       [-1.25246736,  1.37547021],\n",
       "       [-1.25246736, -1.15607005],\n",
       "       [-1.25246736,  1.37547021],\n",
       "       [-1.25246736, -1.15607005],\n",
       "       [-1.25246736,  1.37547021],\n",
       "       [-1.25246736, -1.15607005],\n",
       "       [-1.25246736,  0.5812615 ],\n",
       "       [-1.25246736, -1.15607005],\n",
       "       [-1.25246736,  1.37547021],\n",
       "       [-1.25246736, -1.15607005],\n",
       "       [-1.25246736,  1.37547021],\n",
       "       [-1.25246736, -1.15607005],\n",
       "       [-1.25246736,  1.37547021],\n",
       "       [-1.25246736, -1.15607005],\n",
       "       [-1.25246736,  1.37547021],\n",
       "       [-1.25246736, -1.15607005],\n",
       "       [-1.25246736,  1.37547021],\n",
       "       [-1.25246736, -1.15607005],\n",
       "       [-1.25246736,  1.37547021],\n",
       "       [-1.25246736, -1.13952404],\n",
       "       [-1.25246736,  1.37547021],\n",
       "       [-1.25246736, -1.07333998],\n",
       "       [-1.25246736,  0.5812615 ],\n",
       "       [-1.25246736, -1.15607005],\n",
       "       [-1.25246736,  0.84599774],\n",
       "       [-1.25246736,  0.18415714],\n",
       "       [-1.25246736, -0.34531533],\n",
       "       [-1.25246736, -0.67623562],\n",
       "       [-1.25246736, -0.67623562],\n",
       "       [-1.21880793, -0.01439503],\n",
       "       [-1.21880793,  0.51507744],\n",
       "       [-1.15148907,  0.11797309],\n",
       "       [-1.15148907,  0.51507744],\n",
       "       [-1.15148907, -0.47768345],\n",
       "       [-1.15148907, -0.74241968],\n",
       "       [-1.08417021, -0.14676315],\n",
       "       [-1.08417021, -0.41149939],\n",
       "       [-0.9495325 , -0.08057909],\n",
       "       [-0.9495325 , -0.41149939],\n",
       "       [-0.9495325 ,  0.2503412 ],\n",
       "       [-0.9495325 ,  0.18415714],\n",
       "       [-0.88221364, -0.01439503],\n",
       "       [-0.88221364,  0.44889338],\n",
       "       [-0.81489478, -0.08057909],\n",
       "       [-0.81489478,  0.44889338],\n",
       "       [-0.81489478, -0.14676315],\n",
       "       [-0.81489478, -0.27913127],\n",
       "       [-0.81489478,  0.44889338],\n",
       "       [-0.81489478, -0.34531533],\n",
       "       [-0.74757592,  0.18415714],\n",
       "       [-0.74757592, -0.67623562],\n",
       "       [-0.68025706, -0.21294721],\n",
       "       [-0.68025706,  0.2503412 ],\n",
       "       [-0.41098163, -0.34531533],\n",
       "       [-0.41098163,  0.11797309],\n",
       "       [-0.41098163,  0.05178903],\n",
       "       [-0.41098163, -0.27913127],\n",
       "       [-0.41098163, -0.01439503],\n",
       "       [-0.41098163, -0.67623562],\n",
       "       [-0.41098163, -0.08057909],\n",
       "       [-0.41098163,  0.18415714],\n",
       "       [-0.41098163, -0.74241968],\n",
       "       [-0.41098163, -0.54386751],\n",
       "       [-0.41098163,  0.31652526],\n",
       "       [-0.41098163, -0.41149939],\n",
       "       [-0.20902505,  0.38270932],\n",
       "       [-0.20902505,  0.18415714],\n",
       "       [-0.1417062 ,  0.51507744],\n",
       "       [-0.1417062 , -0.41149939],\n",
       "       [-0.07438734,  0.18415714],\n",
       "       [-0.07438734, -0.74241968],\n",
       "       [-0.00706848, -0.21294721],\n",
       "       [-0.00706848, -0.80860374],\n",
       "       [-0.00706848, -0.67623562],\n",
       "       [-0.00706848, -0.01439503],\n",
       "       [-0.00706848, -0.34531533],\n",
       "       [-0.00706848, -0.14676315],\n",
       "       [ 0.06025038, -0.67623562],\n",
       "       [ 0.06025038, -0.21294721],\n",
       "       [ 0.12756924, -0.74241968],\n",
       "       [ 0.12756924, -0.27913127],\n",
       "       [ 0.12756924,  0.44889338],\n",
       "       [ 0.12756924,  0.18415714],\n",
       "       [ 0.12756924,  0.2503412 ],\n",
       "       [ 0.12756924, -0.67623562],\n",
       "       [ 0.19488809, -0.14676315],\n",
       "       [ 0.19488809, -0.41149939],\n",
       "       [ 0.19488809, -0.61005156],\n",
       "       [ 0.19488809, -0.27913127],\n",
       "       [ 0.19488809, -0.01439503],\n",
       "       [ 0.19488809,  0.11797309],\n",
       "       [ 0.26220695, -0.67623562],\n",
       "       [ 0.26220695, -0.41149939],\n",
       "       [ 0.32952581, -0.27913127],\n",
       "       [ 0.32952581, -0.14676315],\n",
       "       [ 0.32952581, -0.61005156],\n",
       "       [ 0.32952581,  0.44889338],\n",
       "       [ 0.46416353, -0.61005156],\n",
       "       [ 0.46416353,  0.31652526],\n",
       "       [ 0.46416353,  0.2503412 ],\n",
       "       [ 0.46416353, -0.80860374],\n",
       "       [ 0.59880124,  0.38270932],\n",
       "       [ 0.59880124,  1.37547021],\n",
       "       [ 0.6661201 , -1.15607005],\n",
       "       [ 0.6661201 ,  1.37547021],\n",
       "       [ 0.73343896, -1.13952404],\n",
       "       [ 0.73343896,  1.37547021],\n",
       "       [ 0.73343896, -1.15607005],\n",
       "       [ 0.73343896,  1.37547021],\n",
       "       [ 0.73343896, -1.15607005],\n",
       "       [ 0.73343896,  1.37547021],\n",
       "       [ 0.80075782, -1.15607005],\n",
       "       [ 0.80075782,  1.24310209],\n",
       "       [ 0.86807668, -1.15607005],\n",
       "       [ 0.86807668,  1.37547021],\n",
       "       [ 0.86807668, -1.15607005],\n",
       "       [ 0.86807668,  1.37547021],\n",
       "       [ 0.93539554, -1.15607005],\n",
       "       [ 0.93539554,  1.30928615],\n",
       "       [ 1.00271439, -1.15607005],\n",
       "       [ 1.00271439,  1.37547021],\n",
       "       [ 1.07003325, -0.80860374],\n",
       "       [ 1.07003325,  1.37547021],\n",
       "       [ 1.13735211, -1.15607005],\n",
       "       [ 1.13735211,  1.37547021],\n",
       "       [ 1.13735211, -1.07333998],\n",
       "       [ 1.13735211,  1.37547021],\n",
       "       [ 1.20467097, -1.15607005],\n",
       "       [ 1.20467097,  1.37547021],\n",
       "       [ 1.20467097, -1.15607005],\n",
       "       [ 1.20467097,  1.37547021],\n",
       "       [ 1.20467097, -1.15607005],\n",
       "       [ 1.20467097,  1.37547021],\n",
       "       [ 1.20467097, -1.15607005],\n",
       "       [ 1.20467097,  1.37547021],\n",
       "       [ 1.20467097, -1.15607005],\n",
       "       [ 1.20467097,  1.37547021],\n",
       "       [ 1.20467097, -1.15607005],\n",
       "       [ 1.20467097,  1.37547021],\n",
       "       [ 1.20467097, -1.13952404],\n",
       "       [ 1.20467097,  1.37547021],\n",
       "       [ 1.20467097, -1.15607005],\n",
       "       [ 1.20467097,  1.37547021],\n",
       "       [ 1.20467097, -1.15607005],\n",
       "       [ 1.20467097,  1.37547021],\n",
       "       [ 1.20467097, -1.15607005],\n",
       "       [ 1.20467097,  1.37547021],\n",
       "       [ 1.20467097, -1.15607005],\n",
       "       [ 1.20467097,  0.71362962],\n",
       "       [ 1.20467097, -1.15607005],\n",
       "       [ 1.20467097,  1.37547021],\n",
       "       [ 1.20467097, -1.15607005],\n",
       "       [ 1.20467097,  1.37547021],\n",
       "       [ 1.20467097, -1.15607005],\n",
       "       [ 1.20467097,  1.37547021],\n",
       "       [ 1.20467097, -1.15607005],\n",
       "       [ 1.20467097,  1.11073397],\n",
       "       [ 1.20467097, -1.15607005],\n",
       "       [ 1.20467097,  1.37547021],\n",
       "       [ 1.20467097, -1.15607005],\n",
       "       [ 1.20467097,  1.37547021],\n",
       "       [ 1.20467097, -1.15607005],\n",
       "       [ 1.20467097,  1.37547021],\n",
       "       [ 1.20467097, -0.8747878 ],\n",
       "       [ 1.20467097,  1.37547021],\n",
       "       [ 1.20467097, -1.15607005],\n",
       "       [ 1.20467097,  1.04454991],\n",
       "       [ 1.20467097, -1.15607005],\n",
       "       [ 1.20467097,  1.37547021],\n",
       "       [ 1.20467097, -1.15607005],\n",
       "       [ 1.20467097,  1.11073397],\n",
       "       [ 1.20467097, -1.15607005],\n",
       "       [ 1.20467097,  1.37547021],\n",
       "       [ 1.20467097, -1.15607005],\n",
       "       [ 1.20467097,  1.37547021],\n",
       "       [ 1.20467097, -1.15607005],\n",
       "       [ 1.20467097,  1.37547021],\n",
       "       [ 1.20467097, -1.15607005],\n",
       "       [ 1.20467097,  1.37547021]])"
      ]
     },
     "execution_count": 14,
     "metadata": {},
     "output_type": "execute_result"
    }
   ],
   "source": [
    "dataset"
   ]
  },
  {
   "cell_type": "markdown",
   "id": "f910142b",
   "metadata": {},
   "source": [
    "## Model building"
   ]
  },
  {
   "cell_type": "code",
   "execution_count": 17,
   "id": "88125771",
   "metadata": {},
   "outputs": [],
   "source": [
    "from sklearn.cluster import KMeans  "
   ]
  },
  {
   "cell_type": "code",
   "execution_count": 18,
   "id": "ae5de82a",
   "metadata": {},
   "outputs": [
    {
     "name": "stderr",
     "output_type": "stream",
     "text": [
      "D:\\ProgramData\\Anaconda3\\lib\\site-packages\\sklearn\\cluster\\_kmeans.py:1036: UserWarning: KMeans is known to have a memory leak on Windows with MKL, when there are less chunks than available threads. You can avoid it by setting the environment variable OMP_NUM_THREADS=1.\n",
      "  warnings.warn(\n"
     ]
    },
    {
     "data": {
      "image/png": "[encoded data removed]",
      "text/plain": [
       "<Figure size 432x288 with 1 Axes>"
      ]
     },
     "metadata": {
      "needs_background": "light"
     },
     "output_type": "display_data"
    }
   ],
   "source": [
    "wcss_list= []\n",
    "  \n",
    "for i in range(1, 11):  \n",
    "    kmeans = KMeans(n_clusters=i, init='k-means++', random_state= 42)  \n",
    "    kmeans.fit(dataset)  \n",
    "    wcss_list.append(kmeans.inertia_)  \n",
    "plt.plot(range(1, 11), wcss_list)  \n",
    "plt.title('The Elobw Method Graph')  \n",
    "plt.xlabel('Number of clusters(k)')  \n",
    "plt.ylabel('wcss_list')  \n",
    "plt.show()"
   ]
  },
  {
   "cell_type": "code",
   "execution_count": 19,
   "id": "bebcd8bb",
   "metadata": {},
   "outputs": [],
   "source": [
    "kmeans = KMeans(n_clusters=5, init='k-means++', random_state= 42)  \n",
    "y_predict= kmeans.fit_predict(dataset)  "
   ]
  },
  {
   "cell_type": "markdown",
   "id": "8b48242d",
   "metadata": {},
   "source": [
    "## Data vitualization"
   ]
  },
  {
   "cell_type": "code",
   "execution_count": 20,
   "id": "61dff0a4",
   "metadata": {},
   "outputs": [
    {
     "data": {
      "image/png": "[encoded data removed]",
      "text/plain": [
       "<Figure size 432x288 with 1 Axes>"
      ]
     },
     "metadata": {
      "needs_background": "light"
     },
     "output_type": "display_data"
    }
   ],
   "source": [
    "plt.scatter(dataset[y_predict == 0, 0], dataset[y_predict == 0, 1], s = 100, c = 'blue', label = 'Cluster 1') #for first cluster  \n",
    "plt.scatter(dataset[y_predict == 1, 0], dataset[y_predict == 1, 1], s = 100, c = 'green', label = 'Cluster 2') #for second cluster  \n",
    "plt.scatter(dataset[y_predict== 2, 0], dataset[y_predict == 2, 1], s = 100, c = 'red', label = 'Cluster 3') #for third cluster  \n",
    "plt.scatter(dataset[y_predict == 3, 0], dataset[y_predict == 3, 1], s = 100, c = 'cyan', label = 'Cluster 4') #for fourth cluster  \n",
    "plt.scatter(dataset[y_predict == 4, 0], dataset[y_predict == 4, 1], s = 100, c = 'magenta', label = 'Cluster 5') #for fifth cluster  \n",
    "plt.scatter(kmeans.cluster_centers_[:, 0], kmeans.cluster_centers_[:, 1], s = 300, c = 'yellow', label = 'Centroid')   \n",
    "plt.title('Clusters of customers')  \n",
    "plt.xlabel('Annual Income (k$)')  \n",
    "plt.ylabel('Spending Score (1-100)')  \n",
    "plt.legend()  \n",
    "plt.show()  "
   ]
  },
  {
   "cell_type": "code",
   "execution_count": null,
   "id": "1fa327e7",
   "metadata": {},
   "outputs": [],
   "source": []
  },
  {
   "cell_type": "code",
   "execution_count": null,
   "id": "76a653fb",
   "metadata": {},
   "outputs": [],
   "source": []
  },
  {
   "cell_type": "code",
   "execution_count": null,
   "id": "7f1b14f3",
   "metadata": {},
   "outputs": [],
   "source": []
  }
 ],
 "metadata": {
  "kernelspec": {
   "display_name": "Python 3 (ipykernel)",
   "language": "python",
   "name": "python3"
  },
  "language_info": {
   "codemirror_mode": {
    "name": "ipython",
    "version": 3
   },
   "file_extension": ".py",
   "mimetype": "text/x-python",
   "name": "python",
   "nbconvert_exporter": "python",
   "pygments_lexer": "ipython3",
   "version": "3.9.12"
  }
 },
 "nbformat": 4,
 "nbformat_minor": 5
}
